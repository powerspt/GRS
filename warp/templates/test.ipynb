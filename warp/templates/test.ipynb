import utils

nextWeek = utils.getNextWeek()
